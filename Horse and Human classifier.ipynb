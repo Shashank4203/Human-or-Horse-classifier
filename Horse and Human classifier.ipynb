{
 "cells": [
  {
   "cell_type": "code",
   "execution_count": 1,
   "metadata": {},
   "outputs": [],
   "source": [
    "import os"
   ]
  },
  {
   "cell_type": "code",
   "execution_count": 2,
   "metadata": {},
   "outputs": [],
   "source": [
    "import zipfile"
   ]
  },
  {
   "cell_type": "code",
   "execution_count": 4,
   "metadata": {},
   "outputs": [],
   "source": [
    "local_zip = 'horse-or-human.zip'\n",
    "zip_ref = zipfile.ZipFile(local_zip, 'r')\n",
    "zip_ref.extractall('horse-or-human')\n",
    "local_zip = 'validation-horse-or-human.zip'\n",
    "zip_ref = zipfile.ZipFile(local_zip, 'r')\n",
    "zip_ref.extractall('validation-horse-or-human')\n",
    "zip_ref.close()\n"
   ]
  },
  {
   "cell_type": "code",
   "execution_count": 5,
   "metadata": {},
   "outputs": [],
   "source": [
    "train_horse_dir = os.path.join('horse-or-human/horses/')\n",
    "train_human_dir = os.path.join('horse-or-human/humans/')\n",
    "validation_horse_dir = os.path.join('validation-horse-or-human/horses/')\n",
    "validation_human_dir = os.path.join('validation-horse-or-human/humans/')"
   ]
  },
  {
   "cell_type": "code",
   "execution_count": 6,
   "metadata": {},
   "outputs": [],
   "source": [
    "train_horse_names = os.listdir(train_horse_dir)\n",
    "train_human_names = os.listdir(train_human_dir)\n",
    "validation_horse_names = os.listdir(validation_horse_dir)\n",
    "validation_human_names = os.listdir(validation_human_dir)"
   ]
  },
  {
   "cell_type": "code",
   "execution_count": 7,
   "metadata": {},
   "outputs": [
    {
     "name": "stdout",
     "output_type": "stream",
     "text": [
      "total training horse images: 500\n",
      "total training human images: 527\n",
      "total validation horse images: 128\n",
      "total validation human images: 128\n"
     ]
    }
   ],
   "source": [
    "print('total training horse images:', len(os.listdir(train_horse_dir)))\n",
    "print('total training human images:', len(os.listdir(train_human_dir)))\n",
    "print('total validation horse images:', len(os.listdir(validation_horse_dir)))\n",
    "print('total validation human images:', len(os.listdir(validation_human_dir)))"
   ]
  },
  {
   "cell_type": "code",
   "execution_count": 8,
   "metadata": {},
   "outputs": [],
   "source": [
    "import tensorflow as tf\n",
    "import numpy as np\n",
    "from tensorflow import keras"
   ]
  },
  {
   "cell_type": "code",
   "execution_count": 9,
   "metadata": {},
   "outputs": [],
   "source": [
    "model = tf.keras.models.Sequential([\n",
    "    \n",
    "    \n",
    "    tf.keras.layers.Conv2D(16,(3,3),activation='relu',input_shape=(300,300,3)),\n",
    "    tf.keras.layers.MaxPooling2D(2,2),\n",
    "    \n",
    "    tf.keras.layers.Conv2D(32,(3,3),activation='relu'),\n",
    "    tf.keras.layers.MaxPooling2D(2,2),\n",
    "    \n",
    "    tf.keras.layers.Conv2D(64,(3,3),activation='relu'),\n",
    "    tf.keras.layers.MaxPooling2D(2,2),\n",
    "    \n",
    "    tf.keras.layers.Conv2D(64,(3,3),activation='relu'),\n",
    "    tf.keras.layers.MaxPooling2D(2,2),\n",
    "    \n",
    "    tf.keras.layers.Conv2D(64,(3,3),activation='relu'),\n",
    "    tf.keras.layers.MaxPooling2D(2,2),\n",
    "    \n",
    "    tf.keras.layers.Flatten(),\n",
    "    tf.keras.layers.Dense(512,activation='relu'),\n",
    "    tf.keras.layers.Dense(1,activation='sigmoid')\n",
    "    \n",
    "    \n",
    " ])"
   ]
  },
  {
   "cell_type": "code",
   "execution_count": 10,
   "metadata": {},
   "outputs": [
    {
     "name": "stdout",
     "output_type": "stream",
     "text": [
      "Model: \"sequential\"\n",
      "_________________________________________________________________\n",
      "Layer (type)                 Output Shape              Param #   \n",
      "=================================================================\n",
      "conv2d (Conv2D)              (None, 298, 298, 16)      448       \n",
      "_________________________________________________________________\n",
      "max_pooling2d (MaxPooling2D) (None, 149, 149, 16)      0         \n",
      "_________________________________________________________________\n",
      "conv2d_1 (Conv2D)            (None, 147, 147, 32)      4640      \n",
      "_________________________________________________________________\n",
      "max_pooling2d_1 (MaxPooling2 (None, 73, 73, 32)        0         \n",
      "_________________________________________________________________\n",
      "conv2d_2 (Conv2D)            (None, 71, 71, 64)        18496     \n",
      "_________________________________________________________________\n",
      "max_pooling2d_2 (MaxPooling2 (None, 35, 35, 64)        0         \n",
      "_________________________________________________________________\n",
      "conv2d_3 (Conv2D)            (None, 33, 33, 64)        36928     \n",
      "_________________________________________________________________\n",
      "max_pooling2d_3 (MaxPooling2 (None, 16, 16, 64)        0         \n",
      "_________________________________________________________________\n",
      "conv2d_4 (Conv2D)            (None, 14, 14, 64)        36928     \n",
      "_________________________________________________________________\n",
      "max_pooling2d_4 (MaxPooling2 (None, 7, 7, 64)          0         \n",
      "_________________________________________________________________\n",
      "flatten (Flatten)            (None, 3136)              0         \n",
      "_________________________________________________________________\n",
      "dense (Dense)                (None, 512)               1606144   \n",
      "_________________________________________________________________\n",
      "dense_1 (Dense)              (None, 1)                 513       \n",
      "=================================================================\n",
      "Total params: 1,704,097\n",
      "Trainable params: 1,704,097\n",
      "Non-trainable params: 0\n",
      "_________________________________________________________________\n"
     ]
    }
   ],
   "source": [
    "model.summary()"
   ]
  },
  {
   "cell_type": "code",
   "execution_count": 11,
   "metadata": {},
   "outputs": [],
   "source": [
    "from tensorflow.keras.optimizers import RMSprop\n",
    "\n",
    "model.compile(loss='binary_crossentropy',\n",
    "             optimizer=RMSprop(lr = 0.001),metrics=['accuracy'])"
   ]
  },
  {
   "cell_type": "code",
   "execution_count": 12,
   "metadata": {},
   "outputs": [],
   "source": [
    "from tensorflow.keras.preprocessing.image import ImageDataGenerator"
   ]
  },
  {
   "cell_type": "code",
   "execution_count": 13,
   "metadata": {},
   "outputs": [
    {
     "name": "stdout",
     "output_type": "stream",
     "text": [
      "Found 1027 images belonging to 2 classes.\n",
      "Found 256 images belonging to 2 classes.\n"
     ]
    }
   ],
   "source": [
    "train_datagen = ImageDataGenerator(rescale=1/255)\n",
    "train_generator = train_datagen.flow_from_directory(\n",
    "                'horse-or-human',\n",
    "                target_size=(300,300),\n",
    "                batch_size=128,\n",
    "                class_mode='binary'\n",
    ")\n",
    "validation_datagen = ImageDataGenerator(rescale=1/255)\n",
    "validation_generator = validation_datagen.flow_from_directory(\n",
    "                'validation-horse-or-human',\n",
    "                target_size=(300,300),\n",
    "                batch_size=32,\n",
    "                class_mode='binary'\n",
    ")"
   ]
  },
  {
   "cell_type": "code",
   "execution_count": 14,
   "metadata": {},
   "outputs": [
    {
     "name": "stdout",
     "output_type": "stream",
     "text": [
      "WARNING:tensorflow:sample_weight modes were coerced from\n",
      "  ...\n",
      "    to  \n",
      "  ['...']\n",
      "WARNING:tensorflow:sample_weight modes were coerced from\n",
      "  ...\n",
      "    to  \n",
      "  ['...']\n",
      "Train for 8 steps, validate for 8 steps\n",
      "Epoch 1/15\n",
      "8/8 [==============================] - 102s 13s/step - loss: 0.8894 - accuracy: 0.5295 - val_loss: 0.5975 - val_accuracy: 0.6406\n",
      "Epoch 2/15\n",
      "8/8 [==============================] - 89s 11s/step - loss: 1.1832 - accuracy: 0.5829 - val_loss: 0.6446 - val_accuracy: 0.5039\n",
      "Epoch 3/15\n",
      "8/8 [==============================] - 86s 11s/step - loss: 0.6019 - accuracy: 0.6952 - val_loss: 0.7937 - val_accuracy: 0.8359\n",
      "Epoch 4/15\n",
      "8/8 [==============================] - 88s 11s/step - loss: 0.3705 - accuracy: 0.8565 - val_loss: 0.9077 - val_accuracy: 0.8359\n",
      "Epoch 5/15\n",
      "8/8 [==============================] - 86s 11s/step - loss: 0.1442 - accuracy: 0.9366 - val_loss: 1.9253 - val_accuracy: 0.7461\n",
      "Epoch 6/15\n",
      "8/8 [==============================] - 89s 11s/step - loss: 0.6539 - accuracy: 0.8343 - val_loss: 4.1821 - val_accuracy: 0.5391\n",
      "Epoch 7/15\n",
      "8/8 [==============================] - 89s 11s/step - loss: 0.5096 - accuracy: 0.8454 - val_loss: 1.8582 - val_accuracy: 0.6758\n",
      "Epoch 8/15\n",
      "8/8 [==============================] - 91s 11s/step - loss: 0.1234 - accuracy: 0.9499 - val_loss: 1.2621 - val_accuracy: 0.8711\n",
      "Epoch 9/15\n",
      "8/8 [==============================] - 84s 11s/step - loss: 0.1036 - accuracy: 0.9544 - val_loss: 2.3230 - val_accuracy: 0.7656\n",
      "Epoch 10/15\n",
      "8/8 [==============================] - 92s 11s/step - loss: 0.0698 - accuracy: 0.9756 - val_loss: 0.8525 - val_accuracy: 0.8828\n",
      "Epoch 11/15\n",
      "8/8 [==============================] - 83s 10s/step - loss: 0.0723 - accuracy: 0.9700 - val_loss: 2.6252 - val_accuracy: 0.7383\n",
      "Epoch 12/15\n",
      "8/8 [==============================] - 80s 10s/step - loss: 0.4465 - accuracy: 0.9010 - val_loss: 0.5218 - val_accuracy: 0.8359\n",
      "Epoch 13/15\n",
      "8/8 [==============================] - 99s 12s/step - loss: 0.1176 - accuracy: 0.9744 - val_loss: 0.7913 - val_accuracy: 0.8828\n",
      "Epoch 14/15\n",
      "8/8 [==============================] - 82s 10s/step - loss: 0.0225 - accuracy: 0.9933 - val_loss: 1.3647 - val_accuracy: 0.8750\n",
      "Epoch 15/15\n",
      "8/8 [==============================] - 82s 10s/step - loss: 0.0136 - accuracy: 0.9967 - val_loss: 2.0403 - val_accuracy: 0.8516\n"
     ]
    }
   ],
   "source": [
    "history = model.fit(train_generator,\n",
    "                   steps_per_epoch=8,\n",
    "                   epochs=15,\n",
    "                   verbose=1,\n",
    "                   validation_data=validation_generator,\n",
    "                   validation_steps=8)"
   ]
  },
  {
   "cell_type": "code",
   "execution_count": null,
   "metadata": {},
   "outputs": [],
   "source": []
  }
 ],
 "metadata": {
  "kernelspec": {
   "display_name": "Python 3",
   "language": "python",
   "name": "python3"
  },
  "language_info": {
   "codemirror_mode": {
    "name": "ipython",
    "version": 3
   },
   "file_extension": ".py",
   "mimetype": "text/x-python",
   "name": "python",
   "nbconvert_exporter": "python",
   "pygments_lexer": "ipython3",
   "version": "3.7.7"
  }
 },
 "nbformat": 4,
 "nbformat_minor": 4
}
